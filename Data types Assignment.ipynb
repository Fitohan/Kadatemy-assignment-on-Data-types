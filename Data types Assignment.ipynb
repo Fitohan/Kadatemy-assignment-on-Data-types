{
 "cells": [
  {
   "cell_type": "code",
   "execution_count": null,
   "id": "62b93fa5",
   "metadata": {},
   "outputs": [],
   "source": [
    "A variable is a name that refers to a value.For example message = \"Hello Faith\", message is a variable while \"Hello Faith\" \n",
    "is a value.\n",
    "\n"
   ]
  },
  {
   "cell_type": "code",
   "execution_count": null,
   "id": "4ac01d72",
   "metadata": {},
   "outputs": [],
   "source": [
    "country='Nigeria'\n",
    "food =\"Rice\"\n",
    "score= 100\n",
    "classmate1= \"Funmi\"\n",
    "_subject=\"BASIC PROGRAMMING\""
   ]
  },
  {
   "cell_type": "code",
   "execution_count": null,
   "id": "b20710f3",
   "metadata": {},
   "outputs": [],
   "source": [
    "i.not a data type\n",
    "ii.string (str)\n",
    "iii.float\n",
    "iv.integer (int)\n",
    "v.string (str)"
   ]
  },
  {
   "cell_type": "code",
   "execution_count": null,
   "id": "f09c5677",
   "metadata": {},
   "outputs": [],
   "source": [
    "string quote=\"You\\'re right, he won\\'t agree to this deal.\""
   ]
  },
  {
   "cell_type": "code",
   "execution_count": null,
   "id": "1143244d",
   "metadata": {},
   "outputs": [],
   "source": [
    "#It returns False\n",
    "object=\"15.55\"\n",
    "object.islower()"
   ]
  },
  {
   "cell_type": "code",
   "execution_count": 127,
   "id": "b8bad4b8",
   "metadata": {},
   "outputs": [],
   "source": [
    "a=\"cooking\"\n",
    "b=\"singing\"\n",
    "print(\"Monica loves {} and {}.\".format(a,b))"
   ]
  },
  {
   "cell_type": "code",
   "execution_count": 128,
   "id": "a1bc7f5d",
   "metadata": {},
   "outputs": [],
   "source": [
    "username =\"Faith\"\n",
    "timestamp=\"07:50\"\n",
    "url=\"http://kadatemy.com/courses/pythonfordatascience/class1\"\n",
    "print(\"{} accessed the site {} at {}.\".format(username,url,timestamp))"
   ]
  },
  {
   "cell_type": "code",
   "execution_count": 129,
   "id": "eec9ccea",
   "metadata": {},
   "outputs": [],
   "source": [
    "str1=\"Python exercises are fun.It is very satisfying to solve problems using this computer language.\"\n",
    "len(str1)\n",
    "str1[:1]\n",
    "str1[-2]\n",
    "str11=str1.count('e')\n",
    "print(str11)\n",
    "str12=str1.count('s')\n",
    "print(str12).#'e' and 's' occurs equally, that is have same figures."
   ]
  },
  {
   "cell_type": "code",
   "execution_count": 117,
   "id": "8e87074e",
   "metadata": {},
   "outputs": [],
   "source": [
    "str2='  I\\'m enjoying this a lot! I could do with more exercises.  '\n",
    "print(str2.strip())\n",
    "print(str2.isnumeric())\n",
    "a=str2.find('i')\n",
    "print(a)\n"
   ]
  },
  {
   "cell_type": "code",
   "execution_count": 120,
   "id": "6f1b3d26",
   "metadata": {},
   "outputs": [],
   "source": [
    "strA=\"Python exercises are fun.It is very satisfying to solve problems using this computer language.\"\n",
    "strB=\"I\\'m enjoying this a lot! I could do with more exercises.\"\n",
    "print(strA +\" \"+strB)"
   ]
  },
  {
   "cell_type": "code",
   "execution_count": 123,
   "id": "3ca6350e",
   "metadata": {},
   "outputs": [],
   "source": [
    "x=\"3490003\"\n",
    "digit=x.isdigit()\n",
    "print(digit)"
   ]
  },
  {
   "cell_type": "code",
   "execution_count": null,
   "id": "a6c4c8b1",
   "metadata": {},
   "outputs": [],
   "source": []
  }
 ],
 "metadata": {
  "kernelspec": {
   "display_name": "Python 3",
   "language": "python",
   "name": "python3"
  },
  "language_info": {
   "codemirror_mode": {
    "name": "ipython",
    "version": 3
   },
   "file_extension": ".py",
   "mimetype": "text/x-python",
   "name": "python",
   "nbconvert_exporter": "python",
   "pygments_lexer": "ipython3",
   "version": "3.8.8"
  }
 },
 "nbformat": 4,
 "nbformat_minor": 5
}
